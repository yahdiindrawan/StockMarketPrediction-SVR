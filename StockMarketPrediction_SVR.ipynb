{
  "nbformat": 4,
  "nbformat_minor": 0,
  "metadata": {
    "colab": {
      "name": "StockMarketPrediction-SVR.ipynb",
      "provenance": [],
      "authorship_tag": "ABX9TyOOklThMM6/yZk3qadVzZV2",
      "include_colab_link": true
    },
    "kernelspec": {
      "name": "python3",
      "display_name": "Python 3"
    }
  },
  "cells": [
    {
      "cell_type": "markdown",
      "metadata": {
        "id": "view-in-github",
        "colab_type": "text"
      },
      "source": [
        "<a href=\"https://colab.research.google.com/github/yahdiindrawan/StockMarketPrediction-SVR/blob/main/StockMarketPrediction_SVR.ipynb\" target=\"_parent\"><img src=\"https://colab.research.google.com/assets/colab-badge.svg\" alt=\"Open In Colab\"/></a>"
      ]
    },
    {
      "cell_type": "code",
      "metadata": {
        "id": "ubrYtOanowGf"
      },
      "source": [
        "import matplotlib.pyplot as plt\n",
        "import matplotlib.dates as mdates\n",
        "import pandas as pd\n",
        "import pandas_datareader\n",
        "import datetime as dt\n",
        "from sklearn.preprocessing import StandardScaler\n",
        "from sklearn.model_selection import GridSearchCV\n",
        "from sklearn.svm import SVR"
      ],
      "execution_count": 1,
      "outputs": []
    },
    {
      "cell_type": "code",
      "metadata": {
        "id": "tzFaQvNppLqY",
        "outputId": "b7392c18-2e55-4309-b4d7-f67c57f493fd",
        "colab": {
          "base_uri": "https://localhost:8080/"
        }
      },
      "source": [
        "def generate_data(index_saham, start, end):\n",
        "    data_all = pandas_datareader.data.DataReader(index_saham, 'yahoo', start,end)\n",
        "    data_all.reset_index(inplace=True)\n",
        "    x_all = pd.DataFrame(data_all.Date.astype(str).str.split('-').tolist(),columns=\"year month date\".split())\n",
        "    y_all = data_all.Close\n",
        "    return x_all, y_all, data_all\n",
        "start_date = dt.datetime(2014,1,1)\n",
        "end_date = dt.datetime.now()\n",
        "x_all, y_all, data_all = generate_data('BBRI.JK', start_date, end_date)\n",
        "print(y_all)"
      ],
      "execution_count": 2,
      "outputs": [
        {
          "output_type": "stream",
          "text": [
            "0       1460.0\n",
            "1       1450.0\n",
            "2       1405.0\n",
            "3       1415.0\n",
            "4       1435.0\n",
            "         ...  \n",
            "1711    3380.0\n",
            "1712    3290.0\n",
            "1713    3490.0\n",
            "1714    3560.0\n",
            "1715    3600.0\n",
            "Name: Close, Length: 1716, dtype: float64\n"
          ],
          "name": "stdout"
        }
      ]
    },
    {
      "cell_type": "code",
      "metadata": {
        "id": "DRa4gjgspNtG"
      },
      "source": [
        "def tranformasi_data(x_all, x_tr):\n",
        "    scaler = StandardScaler()\n",
        "    scaler.fit(x_all)\n",
        "    x_all_tr = scaler.transform(x_tr)\n",
        "    return x_all_tr\n"
      ],
      "execution_count": 3,
      "outputs": []
    },
    {
      "cell_type": "code",
      "metadata": {
        "id": "KvtgWyskpQ-K",
        "outputId": "18f01456-ff26-406f-e8ce-831ab6a61b8a",
        "colab": {
          "base_uri": "https://localhost:8080/",
          "height": 419
        }
      },
      "source": [
        "x_all"
      ],
      "execution_count": 4,
      "outputs": [
        {
          "output_type": "execute_result",
          "data": {
            "text/html": [
              "<div>\n",
              "<style scoped>\n",
              "    .dataframe tbody tr th:only-of-type {\n",
              "        vertical-align: middle;\n",
              "    }\n",
              "\n",
              "    .dataframe tbody tr th {\n",
              "        vertical-align: top;\n",
              "    }\n",
              "\n",
              "    .dataframe thead th {\n",
              "        text-align: right;\n",
              "    }\n",
              "</style>\n",
              "<table border=\"1\" class=\"dataframe\">\n",
              "  <thead>\n",
              "    <tr style=\"text-align: right;\">\n",
              "      <th></th>\n",
              "      <th>year</th>\n",
              "      <th>month</th>\n",
              "      <th>date</th>\n",
              "    </tr>\n",
              "  </thead>\n",
              "  <tbody>\n",
              "    <tr>\n",
              "      <th>0</th>\n",
              "      <td>2014</td>\n",
              "      <td>01</td>\n",
              "      <td>02</td>\n",
              "    </tr>\n",
              "    <tr>\n",
              "      <th>1</th>\n",
              "      <td>2014</td>\n",
              "      <td>01</td>\n",
              "      <td>03</td>\n",
              "    </tr>\n",
              "    <tr>\n",
              "      <th>2</th>\n",
              "      <td>2014</td>\n",
              "      <td>01</td>\n",
              "      <td>06</td>\n",
              "    </tr>\n",
              "    <tr>\n",
              "      <th>3</th>\n",
              "      <td>2014</td>\n",
              "      <td>01</td>\n",
              "      <td>07</td>\n",
              "    </tr>\n",
              "    <tr>\n",
              "      <th>4</th>\n",
              "      <td>2014</td>\n",
              "      <td>01</td>\n",
              "      <td>08</td>\n",
              "    </tr>\n",
              "    <tr>\n",
              "      <th>...</th>\n",
              "      <td>...</td>\n",
              "      <td>...</td>\n",
              "      <td>...</td>\n",
              "    </tr>\n",
              "    <tr>\n",
              "      <th>1711</th>\n",
              "      <td>2020</td>\n",
              "      <td>11</td>\n",
              "      <td>03</td>\n",
              "    </tr>\n",
              "    <tr>\n",
              "      <th>1712</th>\n",
              "      <td>2020</td>\n",
              "      <td>11</td>\n",
              "      <td>04</td>\n",
              "    </tr>\n",
              "    <tr>\n",
              "      <th>1713</th>\n",
              "      <td>2020</td>\n",
              "      <td>11</td>\n",
              "      <td>05</td>\n",
              "    </tr>\n",
              "    <tr>\n",
              "      <th>1714</th>\n",
              "      <td>2020</td>\n",
              "      <td>11</td>\n",
              "      <td>06</td>\n",
              "    </tr>\n",
              "    <tr>\n",
              "      <th>1715</th>\n",
              "      <td>2020</td>\n",
              "      <td>11</td>\n",
              "      <td>09</td>\n",
              "    </tr>\n",
              "  </tbody>\n",
              "</table>\n",
              "<p>1716 rows × 3 columns</p>\n",
              "</div>"
            ],
            "text/plain": [
              "      year month date\n",
              "0     2014    01   02\n",
              "1     2014    01   03\n",
              "2     2014    01   06\n",
              "3     2014    01   07\n",
              "4     2014    01   08\n",
              "...    ...   ...  ...\n",
              "1711  2020    11   03\n",
              "1712  2020    11   04\n",
              "1713  2020    11   05\n",
              "1714  2020    11   06\n",
              "1715  2020    11   09\n",
              "\n",
              "[1716 rows x 3 columns]"
            ]
          },
          "metadata": {
            "tags": []
          },
          "execution_count": 4
        }
      ]
    },
    {
      "cell_type": "code",
      "metadata": {
        "id": "BpP2w4i4pTZ1",
        "outputId": "06d89721-4af4-4018-f9c7-1682874fa113",
        "colab": {
          "base_uri": "https://localhost:8080/"
        }
      },
      "source": [
        "x_all_tr = tranformasi_data(x_all, x_all)\n",
        "x_all_tr"
      ],
      "execution_count": 5,
      "outputs": [
        {
          "output_type": "execute_result",
          "data": {
            "text/plain": [
              "array([[-1.5115864 , -1.58476044, -1.56343447],\n",
              "       [-1.5115864 , -1.58476044, -1.44892941],\n",
              "       [-1.5115864 , -1.58476044, -1.10541423],\n",
              "       ...,\n",
              "       [ 1.55145111,  1.34599601, -1.21991929],\n",
              "       [ 1.55145111,  1.34599601, -1.10541423],\n",
              "       [ 1.55145111,  1.34599601, -0.76189905]])"
            ]
          },
          "metadata": {
            "tags": []
          },
          "execution_count": 5
        }
      ]
    },
    {
      "cell_type": "code",
      "metadata": {
        "id": "ffX5u3jwpWk7"
      },
      "source": [
        "def model(x_all_tr, y_all):\n",
        "    svr = SVR(kernel='rbf', C=1e3, gamma='auto')\n",
        "    svr.fit(x_all_tr, y_all)\n",
        "    y_pred = svr.predict(x_all_tr)\n",
        "    return y_pred, svr\n",
        "y_pred, svr = model(x_all_tr, y_all)\n"
      ],
      "execution_count": 6,
      "outputs": []
    },
    {
      "cell_type": "code",
      "metadata": {
        "id": "HdLsAJMVpdqr",
        "outputId": "8bc5b766-bf46-4c94-d122-259b2730174b",
        "colab": {
          "base_uri": "https://localhost:8080/"
        }
      },
      "source": [
        "svr"
      ],
      "execution_count": 7,
      "outputs": [
        {
          "output_type": "execute_result",
          "data": {
            "text/plain": [
              "SVR(C=1000.0, cache_size=200, coef0=0.0, degree=3, epsilon=0.1, gamma='auto',\n",
              "    kernel='rbf', max_iter=-1, shrinking=True, tol=0.001, verbose=False)"
            ]
          },
          "metadata": {
            "tags": []
          },
          "execution_count": 7
        }
      ]
    },
    {
      "cell_type": "code",
      "metadata": {
        "id": "rhHtk_OzpiNJ",
        "outputId": "e1f849a0-6646-4c97-9f32-74d792499562",
        "colab": {
          "base_uri": "https://localhost:8080/"
        }
      },
      "source": [
        "y_pred"
      ],
      "execution_count": 8,
      "outputs": [
        {
          "output_type": "execute_result",
          "data": {
            "text/plain": [
              "array([1743.60840952, 1720.14997821, 1668.20894646, ..., 3490.10021771,\n",
              "       3506.31319606, 3543.64820288])"
            ]
          },
          "metadata": {
            "tags": []
          },
          "execution_count": 8
        }
      ]
    },
    {
      "cell_type": "code",
      "metadata": {
        "id": "tsRQkqEPpjTK",
        "outputId": "ea3b54bd-81d8-4041-83bd-c53994880537",
        "colab": {
          "base_uri": "https://localhost:8080/"
        }
      },
      "source": [
        "from sklearn.metrics import mean_absolute_error, mean_squared_error, r2_score\n",
        "print('MSE: {0:.3f}'.format(mean_squared_error(y_all, y_pred)))\n",
        "print('MAE: {0:.3f}'.format(mean_absolute_error(y_all, y_pred)))\n",
        "print('R^2: {0:.3f}'.format(r2_score(y_all, y_pred)))"
      ],
      "execution_count": 9,
      "outputs": [
        {
          "output_type": "stream",
          "text": [
            "MSE: 85592.579\n",
            "MAE: 200.887\n",
            "R^2: 0.861\n"
          ],
          "name": "stdout"
        }
      ]
    },
    {
      "cell_type": "code",
      "metadata": {
        "id": "ObHAuHROpsI9",
        "outputId": "f0600f65-4bf1-4301-ab9c-db41aa2c6c6e",
        "colab": {
          "base_uri": "https://localhost:8080/"
        }
      },
      "source": [
        "prediksi_tanggal = '2020-11-06'\n",
        "y, m, d = prediksi_tanggal.split('-')\n",
        "c = [[y, m, d]]\n",
        "c_tr = tranformasi_data(x_all, c)\n",
        "print(svr.predict(c_tr))"
      ],
      "execution_count": 12,
      "outputs": [
        {
          "output_type": "stream",
          "text": [
            "[3506.31319606]\n"
          ],
          "name": "stdout"
        }
      ]
    },
    {
      "cell_type": "code",
      "metadata": {
        "id": "tr4loM32pvbx",
        "outputId": "fceb7fdc-ed01-4d10-a364-399ed54cee34",
        "colab": {
          "base_uri": "https://localhost:8080/",
          "height": 327
        }
      },
      "source": [
        "def plot(y_pred, data_all):\n",
        "    fig, ax1 = plt.subplots()\n",
        "    plt.plot(data_all.Date, data_all.Close)\n",
        "    monthyearFmt = mdates.DateFormatter('%Y-%m')\n",
        "    ax1.xaxis.set_major_formatter(monthyearFmt)\n",
        "    _ = plt.xticks(rotation=90)\n",
        "    plt.plot(data_all.Date, y_pred, c='r', label='RBF model', linewidth=1)\n",
        "    plt.scatter(data_all.Date, data_all.Close, c='b', label='Data')\n",
        "    plt.xlabel('Date')\n",
        "    plt.ylabel('Price')\n",
        "    plt.title('Support Vector Regression')\n",
        "    plt.legend()\n",
        "    plt.show()\n",
        "plot(y_pred, data_all)"
      ],
      "execution_count": 13,
      "outputs": [
        {
          "output_type": "display_data",
          "data": {
            "image/png": "[encoded data removed]",
            "text/plain": [
              "<Figure size 432x288 with 1 Axes>"
            ]
          },
          "metadata": {
            "tags": [],
            "needs_background": "light"
          }
        }
      ]
    },
    {
      "cell_type": "code",
      "metadata": {
        "id": "1GXXXxsop0l2"
      },
      "source": [
        ""
      ],
      "execution_count": null,
      "outputs": []
    }
  ]
}